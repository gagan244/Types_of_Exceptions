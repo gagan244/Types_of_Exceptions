{
 "cells": [
  {
   "cell_type": "markdown",
   "metadata": {},
   "source": [
    "TYPES OF EXCEPTIONS"
   ]
  },
  {
   "cell_type": "markdown",
   "metadata": {},
   "source": [
    "1. Syntax Error :- A `SyntaxError` occurs when the code is not written in the correct Python syntax."
   ]
  },
  {
   "cell_type": "code",
   "execution_count": 1,
   "metadata": {},
   "outputs": [
    {
     "name": "stdout",
     "output_type": "stream",
     "text": [
      "Hello, world\n"
     ]
    }
   ],
   "source": [
    "# Example of SyntaxError\n",
    "#  print(\"Hello, world\"\n",
    "\n",
    "# Solution\n",
    "print(\"Hello, world\")"
   ]
  },
  {
   "cell_type": "markdown",
   "metadata": {},
   "source": [
    "2. Type Error:- A TypeError occurs when an operation is performed on an inappropriate data type."
   ]
  },
  {
   "cell_type": "code",
   "execution_count": 2,
   "metadata": {},
   "outputs": [
    {
     "data": {
      "text/plain": [
       "'string5'"
      ]
     },
     "execution_count": 2,
     "metadata": {},
     "output_type": "execute_result"
    }
   ],
   "source": [
    "# Example of TypeError\n",
    "#    result = 'string' + 5\n",
    "\n",
    "# Solution\n",
    "result = 'string' + str(5)\n",
    "result"
   ]
  },
  {
   "cell_type": "markdown",
   "metadata": {},
   "source": [
    "3. NameError:-\n",
    "A NameError occurs when a variable is not defined."
   ]
  },
  {
   "cell_type": "code",
   "execution_count": 3,
   "metadata": {},
   "outputs": [
    {
     "name": "stdout",
     "output_type": "stream",
     "text": [
      "I am declared!\n"
     ]
    }
   ],
   "source": [
    "# Example of NameError\n",
    "#    print(undeclared_variable)\n",
    "\n",
    "# Solution\n",
    "declared_variable = 'I am declared!'\n",
    "print(declared_variable)"
   ]
  },
  {
   "cell_type": "markdown",
   "metadata": {},
   "source": [
    "4. IndexError:- \n",
    "An IndexError occurs when trying to access an index that is out of the range of a list."
   ]
  },
  {
   "cell_type": "code",
   "execution_count": 6,
   "metadata": {},
   "outputs": [
    {
     "name": "stdout",
     "output_type": "stream",
     "text": [
      "3\n"
     ]
    }
   ],
   "source": [
    "# Example of IndexError\n",
    "lst = [1, 2, 3]\n",
    "#   print(lst[5])\n",
    "\n",
    "\n",
    "\n",
    "# Solution\n",
    "print(lst[2])  # Access the last element correctly"
   ]
  },
  {
   "cell_type": "markdown",
   "metadata": {},
   "source": [
    "5. KeyError:- \n",
    "A KeyError occurs when trying to access a dictionary key that does not exist."
   ]
  },
  {
   "cell_type": "code",
   "execution_count": 7,
   "metadata": {},
   "outputs": [
    {
     "name": "stdout",
     "output_type": "stream",
     "text": [
      "Default value\n"
     ]
    }
   ],
   "source": [
    "# Example of KeyError\n",
    "dictionary = {'key1': 'value1'}\n",
    "# print(dictionary['key2'])  # 'key2' does not exist\n",
    "\n",
    "\n",
    "# Solution\n",
    "print(dictionary.get('key2', 'Default value'))  # Use get() with a default value"
   ]
  },
  {
   "cell_type": "markdown",
   "metadata": {},
   "source": [
    "6. ValueError:- \n",
    "A ValueError occurs when a function receives an argument of the right type but inappropriate value."
   ]
  },
  {
   "cell_type": "code",
   "execution_count": 8,
   "metadata": {},
   "outputs": [
    {
     "name": "stdout",
     "output_type": "stream",
     "text": [
      "Invalid input! Please enter a valid number.\n"
     ]
    }
   ],
   "source": [
    "# Example of ValueError\n",
    "# int('abc')  @ 'abc' cannot be converted to an integer\n",
    "\n",
    "# Solution\n",
    "try:\n",
    "    print(int('abc'))\n",
    "except ValueError:\n",
    "    print('Invalid input! Please enter a valid number.')\n"
   ]
  },
  {
   "cell_type": "markdown",
   "metadata": {},
   "source": [
    "7. AttributeError:-  \n",
    "An 'AttributeError' occurs when trying to access an attribute that does not exist."
   ]
  },
  {
   "cell_type": "code",
   "execution_count": 9,
   "metadata": {},
   "outputs": [
    {
     "name": "stdout",
     "output_type": "stream",
     "text": [
      "[1, 2, 3, 4]\n"
     ]
    }
   ],
   "source": [
    "# Example of AttributeError\n",
    "lst = [1, 2, 3]\n",
    "# lst.append_new(4)  # append_new() method does not exist\n",
    "\n",
    "# Solution\n",
    "lst.append(4)\n",
    "print(lst)\n"
   ]
  },
  {
   "cell_type": "markdown",
   "metadata": {},
   "source": [
    "8. ZeroDivisionError:-  \n",
    "A ZeroDivisionError occurs when dividing a number by zero."
   ]
  },
  {
   "cell_type": "code",
   "execution_count": 10,
   "metadata": {},
   "outputs": [
    {
     "name": "stdout",
     "output_type": "stream",
     "text": [
      "Infinity\n"
     ]
    }
   ],
   "source": [
    "# Example of ZeroDivisionError\n",
    "# result = 10 / 0  # Division by zero\n",
    "\n",
    "# Solution\n",
    "try:\n",
    "    result = 10 / 0\n",
    "except ZeroDivisionError:\n",
    "    result = 'Infinity'\n",
    "print(result)\n"
   ]
  },
  {
   "cell_type": "markdown",
   "metadata": {},
   "source": [
    "9. IndentationError:-  \n",
    "An IndentationError occurs when the code is not indented properly."
   ]
  },
  {
   "cell_type": "code",
   "execution_count": 11,
   "metadata": {},
   "outputs": [
    {
     "name": "stdout",
     "output_type": "stream",
     "text": [
      "Hello, world\n"
     ]
    }
   ],
   "source": [
    "# Example of IndentationError\n",
    "\n",
    "# def example_function():\n",
    "# print(\"Hello, world\")  # Missing indentation\n",
    "\n",
    "# Solution\n",
    "def example_function():\n",
    "    print(\"Hello, world\")\n",
    "\n",
    "example_function()\n"
   ]
  },
  {
   "cell_type": "markdown",
   "metadata": {},
   "source": [
    "10. ModuleNotFoundError:-  \n",
    "A ModuleNotFoundError occurs when trying to import a module that does not exist."
   ]
  },
  {
   "cell_type": "code",
   "execution_count": 12,
   "metadata": {},
   "outputs": [
    {
     "name": "stdout",
     "output_type": "stream",
     "text": [
      "Module not found! Please install the required module.\n"
     ]
    }
   ],
   "source": [
    "# Example of ModuleNotFoundError\n",
    "\n",
    "# import non_existent_module  # Module does not exist\n",
    "\n",
    "# Solution\n",
    "try:\n",
    "    import non_existent_module\n",
    "except ModuleNotFoundError:\n",
    "    print('Module not found! Please install the required module.')\n"
   ]
  },
  {
   "cell_type": "markdown",
   "metadata": {},
   "source": [
    "11. FileExistsError:-  \n",
    "A FileExistsError occurs when trying to create a file or directory that already exists."
   ]
  },
  {
   "cell_type": "code",
   "execution_count": 13,
   "metadata": {},
   "outputs": [],
   "source": [
    "# Example of FileExistsError\n",
    "\n",
    "import os\n",
    "# os.mkdir('existing_directory')  # Directory already exists\n",
    "\n",
    "# Solution\n",
    "try:\n",
    "    os.mkdir('existing_directory')\n",
    "except FileExistsError:\n",
    "    print('Directory already exists!')\n"
   ]
  },
  {
   "cell_type": "markdown",
   "metadata": {},
   "source": [
    "12. FileNotFoundError:-  \n",
    "A FileNotFoundError occurs when trying to open a file that does not exist."
   ]
  },
  {
   "cell_type": "code",
   "execution_count": 14,
   "metadata": {},
   "outputs": [
    {
     "name": "stdout",
     "output_type": "stream",
     "text": [
      "File not found! Please check the file path.\n"
     ]
    }
   ],
   "source": [
    "# Example of FileNotFoundError\n",
    "\n",
    "# open('non_existent_file.txt')  # File does not exist\n",
    "\n",
    "# Solution\n",
    "try:\n",
    "    open('non_existent_file.txt')\n",
    "except FileNotFoundError:\n",
    "    print('File not found! Please check the file path.')\n"
   ]
  }
 ],
 "metadata": {
  "kernelspec": {
   "display_name": "Python 3",
   "language": "python",
   "name": "python3"
  },
  "language_info": {
   "codemirror_mode": {
    "name": "ipython",
    "version": 3
   },
   "file_extension": ".py",
   "mimetype": "text/x-python",
   "name": "python",
   "nbconvert_exporter": "python",
   "pygments_lexer": "ipython3",
   "version": "3.10.5"
  }
 },
 "nbformat": 4,
 "nbformat_minor": 2
}
